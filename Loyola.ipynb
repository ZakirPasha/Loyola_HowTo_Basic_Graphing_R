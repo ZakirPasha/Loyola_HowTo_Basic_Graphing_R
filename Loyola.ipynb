{
  "nbformat": 4,
  "nbformat_minor": 0,
  "metadata": {
    "colab": {
      "name": "Loyola.ipynb",
      "provenance": [],
      "collapsed_sections": [
        "arEaVGTQ9zgq",
        "lRgMdKR3CU-U",
        "4a4doiCPCp16",
        "B6amxcPwK8EM",
        "OPb7vZflDuZ3",
        "5gfT7VBaIISL",
        "LPbafj9ADgdd",
        "LeW8gXXfWV-N"
      ]
    },
    "kernelspec": {
      "name": "ir",
      "display_name": "R"
    }
  },
  "cells": [
    {
      "cell_type": "markdown",
      "metadata": {
        "id": "6AX6f_-g9zc7",
        "colab_type": "text"
      },
      "source": [
        "# What is Google Colab?\n",
        "\n",
        "A platform where you can create shareable notebooks in different languages like R and Python! This means I can edit any of these and send them back to you with changes, or you can try your code and send them back to me!"
      ]
    },
    {
      "cell_type": "markdown",
      "metadata": {
        "id": "arEaVGTQ9zgq",
        "colab_type": "text"
      },
      "source": [
        "#Environment Breakdown\n"
      ]
    },
    {
      "cell_type": "markdown",
      "metadata": {
        "id": "BfOaCESnfePU",
        "colab_type": "text"
      },
      "source": [
        "Below is what we call a **code cell**. You know it's a code cell because it has [ ] on the left hand side, and when you hover over it a play button appears!"
      ]
    },
    {
      "cell_type": "code",
      "metadata": {
        "id": "8SoTBBGZ_2gc",
        "colab_type": "code",
        "colab": {}
      },
      "source": [
        "#I'm a cell!"
      ],
      "execution_count": null,
      "outputs": []
    },
    {
      "cell_type": "markdown",
      "metadata": {
        "id": "8fY4ZKKG9zja",
        "colab_type": "text"
      },
      "source": [
        "Cells like the one above allow us to execute code. When we don't want to write code, but want to leave a comment, we put a hastag (#) on the same line as the word.\n",
        "\n",
        "**In the above example, we have a code cell, which contains a comment saying \"I am a cell!\".**\n",
        "\n",
        "The examples I'm going to walk you through are written in different code cells.\n",
        "\n",
        "Whenever you see **#Run Me!** in a cell, go ahead and click into it and press Shift + Enter or click the play button. Let's ignore the meaning of contents for now.\n",
        "\n",
        "Try it below:"
      ]
    },
    {
      "cell_type": "code",
      "metadata": {
        "id": "G7CUBdtyBI82",
        "colab_type": "code",
        "colab": {}
      },
      "source": [
        "#Run Me!\n",
        "greeting <- \"What's up!\"\n",
        "print(greeting)"
      ],
      "execution_count": null,
      "outputs": []
    },
    {
      "cell_type": "markdown",
      "metadata": {
        "id": "bdh8qN_ABidp",
        "colab_type": "text"
      },
      "source": [
        "After clicking into the cell above and pressing Shift + Enter or the play button, above should print out What's up! \n",
        "\n",
        "**Selecting Shift+Enter and seeing an output below a code cell is called running the cell.**\n",
        "\n",
        "This basically means you ran the code that was written in this cell.\n",
        "\n",
        "Lastly, notice how the first line in the code cell above is a comment line (hashtag).\n",
        "\n",
        "THE COMPUTER DOES NOT READ THIS CODE. COMMENTS ARE USED FOR THE USER (ME AND YOU) TO KEEP TRACK OF WHAT WE'RE TYPING\n",
        "\n",
        "\n",
        "The following lines without hashtags are your working code lines.\n",
        "\n"
      ]
    },
    {
      "cell_type": "markdown",
      "metadata": {
        "id": "dN_EBOXFB0sO",
        "colab_type": "text"
      },
      "source": [
        "greeting <- \"What's up!\" \n",
        "\n",
        "print(greeting)\n",
        "\n",
        "This is what the computer reads to execute what you want to do. It does not read the hashtagged line."
      ]
    },
    {
      "cell_type": "markdown",
      "metadata": {
        "id": "lRgMdKR3CU-U",
        "colab_type": "text"
      },
      "source": [
        "#Basics of R\n",
        "\n",
        "Not sure if you need to know this/know this already, but you can skip this and go straight into the graphing section next if you want."
      ]
    },
    {
      "cell_type": "markdown",
      "metadata": {
        "id": "4a4doiCPCp16",
        "colab_type": "text"
      },
      "source": [
        "## Variables"
      ]
    },
    {
      "cell_type": "code",
      "metadata": {
        "id": "dhn60lkzBZYM",
        "colab_type": "code",
        "colab": {}
      },
      "source": [
        "#Run Me!\n",
        "x <- 3"
      ],
      "execution_count": null,
      "outputs": []
    },
    {
      "cell_type": "markdown",
      "metadata": {
        "id": "4WdqoCJ9CxE-",
        "colab_type": "text"
      },
      "source": [
        "In the code cell above, we assigned the number 3 to the variable x. \n",
        "\n",
        "Think of '<-' as an equal sign in R! \n",
        "\n",
        "**R never uses equal signs**\n",
        "\n",
        "\n",
        "\n",
        "\n",
        "Lets print that variable!"
      ]
    },
    {
      "cell_type": "code",
      "metadata": {
        "id": "hhCKT3BFC4PI",
        "colab_type": "code",
        "colab": {}
      },
      "source": [
        "#Run Me!\n",
        "print(x)"
      ],
      "execution_count": null,
      "outputs": []
    },
    {
      "cell_type": "markdown",
      "metadata": {
        "id": "7dQs_kgcDgbJ",
        "colab_type": "text"
      },
      "source": [
        "Practice creating your own variables and assigning them to **numbers**\n",
        "\n",
        "Don't assign anything to words, just yet!"
      ]
    },
    {
      "cell_type": "markdown",
      "metadata": {
        "id": "B6amxcPwK8EM",
        "colab_type": "text"
      },
      "source": [
        "##Practice Variables"
      ]
    },
    {
      "cell_type": "code",
      "metadata": {
        "id": "ha8QkjxqDyXd",
        "colab_type": "code",
        "colab": {}
      },
      "source": [
        "#Create a y variable directly below this code and assign it to any number you want!\n",
        "#Print it too!\n",
        "#Run Me!\n",
        "\n",
        "\n",
        "\n"
      ],
      "execution_count": null,
      "outputs": []
    },
    {
      "cell_type": "code",
      "metadata": {
        "id": "QhgIHJWpDyaD",
        "colab_type": "code",
        "colab": {}
      },
      "source": [
        "#Create a variable directly below this code and assign it to another number!\n",
        "#Print it too!\n",
        "#Run Me!\n",
        "\n",
        "\n",
        "\n"
      ],
      "execution_count": null,
      "outputs": []
    },
    {
      "cell_type": "markdown",
      "metadata": {
        "id": "OPb7vZflDuZ3",
        "colab_type": "text"
      },
      "source": [
        "##Data Types"
      ]
    },
    {
      "cell_type": "markdown",
      "metadata": {
        "id": "8dJ1FYcgGDxB",
        "colab_type": "text"
      },
      "source": [
        "There's a bunch of different data types in R, but I'll just go over 2 with you:\n",
        "\n",
        "Numeric \n",
        "\n",
        "\n",
        "Character"
      ]
    },
    {
      "cell_type": "code",
      "metadata": {
        "id": "Wwtl56nHEuXZ",
        "colab_type": "code",
        "colab": {}
      },
      "source": [
        "#Run Me!\n",
        "name <- 'Shena'\n",
        "print(name)"
      ],
      "execution_count": null,
      "outputs": []
    },
    {
      "cell_type": "markdown",
      "metadata": {
        "id": "xgfHlN3GGYFz",
        "colab_type": "text"
      },
      "source": [
        "In the code cell above, you assigned the variable **name**, Shena.\n",
        "\n",
        "Remember how I told you above to assign the variable to a number **and not a word?**\n",
        "\n",
        "This is why:"
      ]
    },
    {
      "cell_type": "code",
      "metadata": {
        "id": "rHaYxDAQE0dj",
        "colab_type": "code",
        "colab": {}
      },
      "source": [
        "#Run Me!\n",
        "name <- Shena"
      ],
      "execution_count": null,
      "outputs": []
    },
    {
      "cell_type": "markdown",
      "metadata": {
        "id": "oMsme6zKGuEk",
        "colab_type": "text"
      },
      "source": [
        "The above didn't work because you need to add single or double quotes to whatever you're assigning to the variable.\n",
        "\n",
        "If you forget the single or double quotes, what you're doing is assigning a variable to **ANOTHER** variable.\n",
        "\n"
      ]
    },
    {
      "cell_type": "code",
      "metadata": {
        "id": "JhjlQAWmG_cO",
        "colab_type": "code",
        "colab": {}
      },
      "source": [
        "#Run Me!\n",
        "city <- 'Chicago'\n",
        "newcity <- city\n",
        "print(newcity)"
      ],
      "execution_count": null,
      "outputs": []
    },
    {
      "cell_type": "markdown",
      "metadata": {
        "id": "UQuIJ4BdHG7H",
        "colab_type": "text"
      },
      "source": [
        "In the code cell above, you first assigned 'Chicago' to the variable **city**. You then assigned a new variable, **newcity** to be whatever **city** is. "
      ]
    },
    {
      "cell_type": "markdown",
      "metadata": {
        "id": "PHin_Gr2HhW4",
        "colab_type": "text"
      },
      "source": [
        "The above variables are example of character data types because they hold words. Aka Shena and Chicago!\n",
        "\n",
        "As you can probably guess, **numeric** data types are variables that hold numbers!"
      ]
    },
    {
      "cell_type": "markdown",
      "metadata": {
        "id": "BlHXlXKpHv23",
        "colab_type": "text"
      },
      "source": [
        "Use **class()** to see the data types of variables!"
      ]
    },
    {
      "cell_type": "code",
      "metadata": {
        "id": "chn8OUhKF-NK",
        "colab_type": "code",
        "colab": {}
      },
      "source": [
        "#Run Me!\n",
        "college <- 'UIC'\n",
        "hours <- 10\n",
        "\n",
        "class(college)\n",
        "class(hours)"
      ],
      "execution_count": null,
      "outputs": []
    },
    {
      "cell_type": "markdown",
      "metadata": {
        "id": "5gfT7VBaIISL",
        "colab_type": "text"
      },
      "source": [
        "## Zakir, WHY ARE THESE DATA TYPES IMPORTANT?!?!?!?!?!"
      ]
    },
    {
      "cell_type": "markdown",
      "metadata": {
        "id": "X7tgmT2IKwlN",
        "colab_type": "text"
      },
      "source": [
        "Because you can't add a numeric to a character! When dealing with data, you might run across a 3 that is a character data type and a 3 that is a numeric data type! \n",
        "\n",
        "Take a look below!"
      ]
    },
    {
      "cell_type": "code",
      "metadata": {
        "id": "kgqL8szWIZc6",
        "colab_type": "code",
        "colab": {}
      },
      "source": [
        "#Run Me!\n",
        "char <- '3'\n",
        "num <- 3\n",
        "\n",
        "print(char + num)"
      ],
      "execution_count": null,
      "outputs": []
    },
    {
      "cell_type": "markdown",
      "metadata": {
        "id": "gFUjq8oaIhDW",
        "colab_type": "text"
      },
      "source": [
        "In the code cell above, we tried adding together different data types, to solve this, we jut need to change the character data type to a numeric one!\n",
        "\n",
        "To change a variable to a numeric, use **as.numeric()**\n",
        "\n",
        "To change a variable to a character, use **as.character()**"
      ]
    },
    {
      "cell_type": "code",
      "metadata": {
        "id": "82-XV9nwIpsj",
        "colab_type": "code",
        "colab": {}
      },
      "source": [
        "#Run Me!\n",
        "newchar <- as.numeric(char)\n",
        "\n",
        "print(newchar+num)"
      ],
      "execution_count": null,
      "outputs": []
    },
    {
      "cell_type": "markdown",
      "metadata": {
        "id": "IMexh6XYJ1fh",
        "colab_type": "text"
      },
      "source": [
        "Let's add two character types together:"
      ]
    },
    {
      "cell_type": "code",
      "metadata": {
        "id": "V7EXVdUBJ02_",
        "colab_type": "code",
        "colab": {}
      },
      "source": [
        "#Run Me!\n",
        "\n",
        "wordone <- \"I am\"\n",
        "wordtwo <- \"hungry!\"\n",
        "\n",
        "paste(wordone,wordtwo)"
      ],
      "execution_count": null,
      "outputs": []
    },
    {
      "cell_type": "markdown",
      "metadata": {
        "id": "jl6CPQrlKEJz",
        "colab_type": "text"
      },
      "source": [
        "In the code cell above, we used **paste()** to combine two character data types.\n",
        "\n",
        "Unfortunately, we can't use the plus sign with these.\n",
        "\n",
        "SUCKS."
      ]
    },
    {
      "cell_type": "markdown",
      "metadata": {
        "id": "Ck1K-jWKDucY",
        "colab_type": "text"
      },
      "source": [
        "## Practice Data Types"
      ]
    },
    {
      "cell_type": "code",
      "metadata": {
        "id": "XCk6oO8bJQVJ",
        "colab_type": "code",
        "colab": {}
      },
      "source": [
        "#Create a variable to hold a character data type, and print it!\n",
        "\n"
      ],
      "execution_count": null,
      "outputs": []
    },
    {
      "cell_type": "code",
      "metadata": {
        "id": "r1Iw9Yy8JQXT",
        "colab_type": "code",
        "colab": {}
      },
      "source": [
        "#Create a variable to hold '100'\n",
        "\n"
      ],
      "execution_count": null,
      "outputs": []
    },
    {
      "cell_type": "code",
      "metadata": {
        "id": "m6KZhXEqJQZa",
        "colab_type": "code",
        "colab": {}
      },
      "source": [
        "#Convert that variable to a numeric data type and class() to confirm it is now numeric!\n",
        "\n"
      ],
      "execution_count": null,
      "outputs": []
    },
    {
      "cell_type": "code",
      "metadata": {
        "id": "3mjR1lMSJQc4",
        "colab_type": "code",
        "colab": {}
      },
      "source": [
        "#Create two different numeric variables, and print them!\n",
        "\n"
      ],
      "execution_count": null,
      "outputs": []
    },
    {
      "cell_type": "code",
      "metadata": {
        "id": "fW155l3YJvSm",
        "colab_type": "code",
        "colab": {}
      },
      "source": [
        "#Convert the numeric variables to character variables!\n",
        "\n"
      ],
      "execution_count": null,
      "outputs": []
    },
    {
      "cell_type": "code",
      "metadata": {
        "id": "2TUQdiO8JvY2",
        "colab_type": "code",
        "colab": {}
      },
      "source": [
        "#Paste the two different characters together and assign it to a brand new variable, and print it!\n",
        "\n"
      ],
      "execution_count": null,
      "outputs": []
    },
    {
      "cell_type": "markdown",
      "metadata": {
        "id": "LPbafj9ADgdd",
        "colab_type": "text"
      },
      "source": [
        "#Basic Graphing in R\n",
        "In this section, I'll show you how to quickly make:\n",
        "\n",
        "- Histograms\n",
        "- Bar Charts\n",
        "- Pie Charts\n",
        "- Boxplots\n",
        "- Scatterplots\n",
        "\n",
        "We'll be looking at a cars dataset (I know, boring, but it came with the package)"
      ]
    },
    {
      "cell_type": "markdown",
      "metadata": {
        "id": "UJl3LroSQWPT",
        "colab_type": "text"
      },
      "source": [
        "##Loading and Inspecting the Dataset\n"
      ]
    },
    {
      "cell_type": "code",
      "metadata": {
        "id": "QbD8QOBOQeMg",
        "colab_type": "code",
        "colab": {}
      },
      "source": [
        "#Run Me! (This might take a few minutes)\n",
        "install.packages(\"readr\")"
      ],
      "execution_count": null,
      "outputs": []
    },
    {
      "cell_type": "markdown",
      "metadata": {
        "id": "UbzsA6hAQmBa",
        "colab_type": "text"
      },
      "source": [
        "To be honest, I'm not sure what the above package completely does, but it comes with a dataset called **mtcars**!"
      ]
    },
    {
      "cell_type": "markdown",
      "metadata": {
        "id": "mlMvYTrMQxFY",
        "colab_type": "text"
      },
      "source": [
        "Inspecting our dataset. We'll be using:\n",
        "\n",
        "- head() : Gives us the top 5 rows\n",
        "- tail(): Gives us the last 5 rows\n",
        "- summary(): Gives us a summary of each column\n",
        "- dim() : Gives us the number of rows and columns"
      ]
    },
    {
      "cell_type": "code",
      "metadata": {
        "id": "rAv_Q4YeQUtZ",
        "colab_type": "code",
        "colab": {}
      },
      "source": [
        "#Run Me!\n",
        "head(mtcars)"
      ],
      "execution_count": null,
      "outputs": []
    },
    {
      "cell_type": "code",
      "metadata": {
        "id": "ryB-bhKuRTez",
        "colab_type": "code",
        "colab": {}
      },
      "source": [
        "#Run Me!\n",
        "tail(mtcars)"
      ],
      "execution_count": null,
      "outputs": []
    },
    {
      "cell_type": "code",
      "metadata": {
        "id": "j2KvFbQjRTki",
        "colab_type": "code",
        "colab": {}
      },
      "source": [
        "#Run Me!\n",
        "summary(mtcars)"
      ],
      "execution_count": null,
      "outputs": []
    },
    {
      "cell_type": "code",
      "metadata": {
        "id": "26DX-tDPRTpf",
        "colab_type": "code",
        "colab": {}
      },
      "source": [
        "#Run Me!\n",
        "dim(mtcars)"
      ],
      "execution_count": null,
      "outputs": []
    },
    {
      "cell_type": "markdown",
      "metadata": {
        "id": "QC5WH4t0ZfDC",
        "colab_type": "text"
      },
      "source": [
        "Explanation of the Columns:\n",
        "\n",
        "[, 1]\tmpg\tMiles/(US) gallon\n",
        "\n",
        "[, 2]\tcyl\tNumber of cylinders\n",
        "\n",
        "[, 3]\tdisp\tDisplacement (cu.in.)\n",
        "\n",
        "[, 4]\thp\tGross horsepower\n",
        "\n",
        "[, 5]\tdrat\tRear axle ratio\n",
        "\n",
        "[, 6]\twt\tWeight (1000 lbs)\n",
        "\n",
        "[, 7]\tqsec\t1/4 mile time\n",
        "\n",
        "[, 8]\tvs\tEngine (0 = V-shaped, 1 = straight)\n",
        "\n",
        "[, 9]\tam\tTransmission (0 = automatic, 1 = manual)\n",
        "\n",
        "[,10]\tgear\tNumber of forward gears\n",
        "\n",
        "[,11]\tcarb\tNumber of carburetors"
      ]
    },
    {
      "cell_type": "markdown",
      "metadata": {
        "id": "RdFZB20_MqE5",
        "colab_type": "text"
      },
      "source": [
        "##Histograms & Density Plots"
      ]
    },
    {
      "cell_type": "markdown",
      "metadata": {
        "id": "pZXKfTSoSB3d",
        "colab_type": "text"
      },
      "source": [
        "To make a basic histogram, we'll be using:\n",
        "\n",
        "hist()\n",
        "\n",
        "You usually make a histogram of just one **feature**, in this case column.\n",
        "\n",
        "\n",
        "To reference a column in a data set we use '$'\n",
        "\n",
        "\n",
        "**mtcars$mpg references the mpg column only!**"
      ]
    },
    {
      "cell_type": "code",
      "metadata": {
        "id": "oVmltZ6HMnaf",
        "colab_type": "code",
        "colab": {}
      },
      "source": [
        "#Run Me!\n",
        "hist(mtcars$mpg)"
      ],
      "execution_count": null,
      "outputs": []
    },
    {
      "cell_type": "code",
      "metadata": {
        "id": "sb_HnufXS3G_",
        "colab_type": "code",
        "colab": {}
      },
      "source": [
        "#Run Me!\n",
        "hist(mtcars$carb)"
      ],
      "execution_count": null,
      "outputs": []
    },
    {
      "cell_type": "code",
      "metadata": {
        "id": "KxydFiUsO_aq",
        "colab_type": "code",
        "colab": {}
      },
      "source": [
        "#Create a histogram of another column in this cell!\n",
        "\n"
      ],
      "execution_count": null,
      "outputs": []
    },
    {
      "cell_type": "code",
      "metadata": {
        "id": "jbv65BxSSjUl",
        "colab_type": "code",
        "colab": {}
      },
      "source": [
        "#Create a histogram of another column in this cell!\n",
        "\n"
      ],
      "execution_count": null,
      "outputs": []
    },
    {
      "cell_type": "markdown",
      "metadata": {
        "id": "i-39usMYT24y",
        "colab_type": "text"
      },
      "source": [
        "Let's Add Breaks, Colors, and Titles!\n",
        "\n",
        "- breaks = number of bars\n",
        "- col = color of the bars\n",
        "- main = adds a title to the graph\n",
        "- xlab = x-axis label\n",
        "- ylab = y-axis label"
      ]
    },
    {
      "cell_type": "code",
      "metadata": {
        "id": "XjW7kmvKSjew",
        "colab_type": "code",
        "colab": {}
      },
      "source": [
        "#Run Me!\n",
        "hist(mtcars$mpg, breaks = 20, col = 'red', main = 'Title!',xlab = 'MPG',ylab = 'Count')"
      ],
      "execution_count": null,
      "outputs": []
    },
    {
      "cell_type": "code",
      "metadata": {
        "id": "ovYehuqaSjkk",
        "colab_type": "code",
        "colab": {}
      },
      "source": [
        "#Run Me!\n",
        "hist(mtcars$carb, breaks = 4, col='blue', main = 'New Title!', xlab = 'Carb', ylab = 'Count')"
      ],
      "execution_count": null,
      "outputs": []
    },
    {
      "cell_type": "code",
      "metadata": {
        "id": "x1r51gohSjqP",
        "colab_type": "code",
        "colab": {}
      },
      "source": [
        "#Create a histogram of another column and play around with the features below!\n",
        "\n"
      ],
      "execution_count": null,
      "outputs": []
    },
    {
      "cell_type": "code",
      "metadata": {
        "id": "Zan9kG8WU4yo",
        "colab_type": "code",
        "colab": {}
      },
      "source": [
        "#Create a histogram of another column and play around with the features below!\n",
        "\n"
      ],
      "execution_count": null,
      "outputs": []
    },
    {
      "cell_type": "code",
      "metadata": {
        "id": "oNHBB5BAU43N",
        "colab_type": "code",
        "colab": {}
      },
      "source": [
        "#Create a histogram of another column and play around with the features below!\n",
        "\n"
      ],
      "execution_count": null,
      "outputs": []
    },
    {
      "cell_type": "code",
      "metadata": {
        "id": "fYkO83W3U49D",
        "colab_type": "code",
        "colab": {}
      },
      "source": [
        "#Create a histogram of another column and play around with the features below!\n",
        "\n"
      ],
      "execution_count": null,
      "outputs": []
    },
    {
      "cell_type": "code",
      "metadata": {
        "id": "Jj3A_lOpU5Cg",
        "colab_type": "code",
        "colab": {}
      },
      "source": [
        "#Create a histogram of another column and play around with the features below!\n",
        "\n"
      ],
      "execution_count": null,
      "outputs": []
    },
    {
      "cell_type": "markdown",
      "metadata": {
        "id": "WQVNT_qnVaGg",
        "colab_type": "text"
      },
      "source": [
        "Density Plot\n",
        "\n",
        "Similiar to above, we'll be using\n",
        "\n",
        "**plot(density())**"
      ]
    },
    {
      "cell_type": "code",
      "metadata": {
        "id": "0hCYWBvvVgZ3",
        "colab_type": "code",
        "colab": {}
      },
      "source": [
        "#Run Me!\n",
        "plot(density(mtcars$mpg))"
      ],
      "execution_count": null,
      "outputs": []
    },
    {
      "cell_type": "code",
      "metadata": {
        "id": "OoEOYoP_ViyS",
        "colab_type": "code",
        "colab": {}
      },
      "source": [
        "#Run Me!\n",
        "plot(density(mtcars$mpg))"
      ],
      "execution_count": null,
      "outputs": []
    },
    {
      "cell_type": "markdown",
      "metadata": {
        "id": "Q-TZ1XDQV3_9",
        "colab_type": "text"
      },
      "source": [
        "Changing Title and Axis"
      ]
    },
    {
      "cell_type": "code",
      "metadata": {
        "id": "KotHckN5VxVn",
        "colab_type": "code",
        "colab": {}
      },
      "source": [
        "plot(density(mtcars$mpg),main = 'red',xlab='something',ylab='whatever')"
      ],
      "execution_count": null,
      "outputs": []
    },
    {
      "cell_type": "code",
      "metadata": {
        "id": "xyMIf0ruV_ad",
        "colab_type": "code",
        "colab": {}
      },
      "source": [
        "#Create density plots of other columns and play around with the titles!\n",
        "\n"
      ],
      "execution_count": null,
      "outputs": []
    },
    {
      "cell_type": "code",
      "metadata": {
        "id": "Q2MGK7MXWbFt",
        "colab_type": "code",
        "colab": {}
      },
      "source": [
        "#Create density plots of other columns and play around with the titles!\n",
        "\n"
      ],
      "execution_count": null,
      "outputs": []
    },
    {
      "cell_type": "code",
      "metadata": {
        "id": "DI2NUK4SWbLZ",
        "colab_type": "code",
        "colab": {}
      },
      "source": [
        "#Create density plots of other columns and play around with the titles!\n",
        "\n"
      ],
      "execution_count": null,
      "outputs": []
    },
    {
      "cell_type": "markdown",
      "metadata": {
        "id": "Tis1_7gyW7td",
        "colab_type": "text"
      },
      "source": [
        "##Bar Plots"
      ]
    },
    {
      "cell_type": "markdown",
      "metadata": {
        "id": "GBH_1oz9Xkoq",
        "colab_type": "text"
      },
      "source": [
        "To create a bar plot, we first need to use **table()** to convert the data to a table.\n",
        "\n",
        "We'll then use **barplot()** to convert that table into a bar plot. \n",
        "\n",
        "Take a look below!\n"
      ]
    },
    {
      "cell_type": "code",
      "metadata": {
        "id": "p7d9pGcWW6Vf",
        "colab_type": "code",
        "colab": {}
      },
      "source": [
        "#Run Me!\n",
        "data <- table(mtcars$gear)\n",
        "barplot(data)"
      ],
      "execution_count": null,
      "outputs": []
    },
    {
      "cell_type": "markdown",
      "metadata": {
        "id": "TzxawKtCYRx8",
        "colab_type": "text"
      },
      "source": [
        "We can also spice this graph up by adding a title, xlab, ylab, and colors!"
      ]
    },
    {
      "cell_type": "code",
      "metadata": {
        "id": "3ks2undSYYPj",
        "colab_type": "code",
        "colab": {}
      },
      "source": [
        "data <- table(mtcars$gear)\n",
        "barplot(data, col='pink',main = 'Main Title', xlab = 'x-axis',ylab = 'y-axis')"
      ],
      "execution_count": null,
      "outputs": []
    },
    {
      "cell_type": "markdown",
      "metadata": {
        "id": "EkOZZdRcYNJ-",
        "colab_type": "text"
      },
      "source": [
        "###Stacked Bar Plot"
      ]
    },
    {
      "cell_type": "markdown",
      "metadata": {
        "id": "qJqtWacyadhY",
        "colab_type": "text"
      },
      "source": [
        "On top of adding titles, and changing colors, we can also add a legend by:\n",
        "\n",
        "**legend =**\n",
        "\n",
        "In this case, we made the legend reference VS, **the first input of table()**"
      ]
    },
    {
      "cell_type": "code",
      "metadata": {
        "id": "Gb15yDecYIGm",
        "colab_type": "code",
        "colab": {}
      },
      "source": [
        "#Run me!\n",
        "#This line takes the two columns, vs and gear and converts the data to a table format and stores it in the variable called counts\n",
        "counts <- table(mtcars$vs, mtcars$gear)\n",
        "\n",
        "#we then use barplot() to include counts and the features!\n",
        "barplot(counts, main=\"Car Distribution by Gears and VS\",\n",
        "  xlab=\"Number of Gears\", col=c(\"darkblue\",\"red\"),\n",
        "  legend = rownames(counts))"
      ],
      "execution_count": null,
      "outputs": []
    },
    {
      "cell_type": "code",
      "metadata": {
        "id": "GSHmLdfSYLPK",
        "colab_type": "code",
        "colab": {}
      },
      "source": [
        "#Create another stacked bar chart of two other columns!\n",
        "\n"
      ],
      "execution_count": null,
      "outputs": []
    },
    {
      "cell_type": "markdown",
      "metadata": {
        "id": "QVPOT3u3Y4qI",
        "colab_type": "text"
      },
      "source": [
        "###Grouped Bar Plot\n"
      ]
    },
    {
      "cell_type": "markdown",
      "metadata": {
        "id": "ThYVekrba9hJ",
        "colab_type": "text"
      },
      "source": [
        "The code below is similiar to the one above, but we added one more argument:\n",
        "\n",
        "**beside = TRUE**\n",
        "\n",
        "Think of this as saying we want the **beside each other**"
      ]
    },
    {
      "cell_type": "code",
      "metadata": {
        "id": "ycPvGUAgZII1",
        "colab_type": "code",
        "colab": {}
      },
      "source": [
        "#Run Me!\n",
        "\n",
        "#This line converts the two columns to tables and stores the data as counts\n",
        "counts <- table(mtcars$cyl, mtcars$gear)\n",
        "\n",
        "#This line uses barplot() and references count along with some features like title, x-axis label, colors, legend, beside\n",
        "barplot(counts, main=\"Car Distribution by Gear and Cylinder\",\n",
        "  xlab=\"Number of Gears\", col=c(\"darkblue\",\"red\"),\n",
        "  #This is where beside is!\n",
        "  legend = rownames(counts), beside = TRUE)"
      ],
      "execution_count": null,
      "outputs": []
    },
    {
      "cell_type": "code",
      "metadata": {
        "id": "1iYjOzq2bWaF",
        "colab_type": "code",
        "colab": {}
      },
      "source": [
        "#Create a grouped bar chart using $mtcars$vs and mtcars$gear\n",
        "#Play around with the colors and titles!"
      ],
      "execution_count": null,
      "outputs": []
    },
    {
      "cell_type": "markdown",
      "metadata": {
        "id": "BT81YXQDUTiJ",
        "colab_type": "text"
      },
      "source": [
        "##Boxplots"
      ]
    },
    {
      "cell_type": "markdown",
      "metadata": {
        "id": "8I5cMFjcMeQe",
        "colab_type": "text"
      },
      "source": [
        "There's a bit more detail needed to plot a box plot, but the basics are the same as the others above!\n",
        "\n",
        "We'll be using **boxplot()** to create the graph and we will first need to dictate what we want in the Y-Axis, then use the **~** (located next to the number one on your keyboard) and then dictate what we want on the X-Axis, and finally using **data=** to give the name of our dataset."
      ]
    },
    {
      "cell_type": "code",
      "metadata": {
        "id": "vMODUEsZd-qQ",
        "colab_type": "code",
        "colab": {}
      },
      "source": [
        "#Run Me!\n",
        "#Y-Axis: mpg\n",
        "#X-Axis: cyl\n",
        "#Data = mtcars (name of our dataset)\n",
        "boxplot(mpg~cyl,data=mtcars)"
      ],
      "execution_count": null,
      "outputs": []
    },
    {
      "cell_type": "markdown",
      "metadata": {
        "id": "d5dBp_50Mpl0",
        "colab_type": "text"
      },
      "source": [
        "Adding titles"
      ]
    },
    {
      "cell_type": "code",
      "metadata": {
        "id": "29uAwkYsLjjI",
        "colab_type": "code",
        "colab": {}
      },
      "source": [
        "boxplot(mpg~cyl,data=mtcars, main=\"Car Milage Data\", \n",
        "   xlab=\"Number of Cylinders\", ylab=\"Miles Per Gallon\")"
      ],
      "execution_count": null,
      "outputs": []
    },
    {
      "cell_type": "code",
      "metadata": {
        "id": "gfmv0IFkMuPg",
        "colab_type": "code",
        "colab": {}
      },
      "source": [
        "#Create your own box plot of two other columns below!\n",
        "\n"
      ],
      "execution_count": null,
      "outputs": []
    },
    {
      "cell_type": "code",
      "metadata": {
        "id": "Z2AislDQM28G",
        "colab_type": "code",
        "colab": {}
      },
      "source": [
        "#Create your own box plot of two other columns below!\n",
        "\n",
        "\n"
      ],
      "execution_count": null,
      "outputs": []
    },
    {
      "cell_type": "markdown",
      "metadata": {
        "id": "92PzTMp0Ua_f",
        "colab_type": "text"
      },
      "source": [
        "##Scatterplots"
      ]
    },
    {
      "cell_type": "markdown",
      "metadata": {
        "id": "Hhc181HaOW6J",
        "colab_type": "text"
      },
      "source": [
        "Scatterplots follow a similiar format to box plots! We'll just be using **plot()** for this.\n",
        "\n",
        "\n",
        "I'll also show you how to add a regression line!"
      ]
    },
    {
      "cell_type": "code",
      "metadata": {
        "id": "wGEDJEZENd15",
        "colab_type": "code",
        "colab": {}
      },
      "source": [
        "#Run Me!\n",
        "#Y-Axis: weight\n",
        "#X-Axis: miles per gallon\n",
        "#data = mtcars\n",
        "plot(wt~mpg,data=mtcars)"
      ],
      "execution_count": null,
      "outputs": []
    },
    {
      "cell_type": "markdown",
      "metadata": {
        "id": "oA7zmnafOpVa",
        "colab_type": "text"
      },
      "source": [
        "Let's add titles!"
      ]
    },
    {
      "cell_type": "code",
      "metadata": {
        "id": "Spb21c-nNgzJ",
        "colab_type": "code",
        "colab": {}
      },
      "source": [
        "plot(wt~mpg,data=mtcars,main='Scatterplot Example',xlab='Miles Per Gallon',ylab='Weight')"
      ],
      "execution_count": null,
      "outputs": []
    },
    {
      "cell_type": "markdown",
      "metadata": {
        "id": "lEREytJmPI4V",
        "colab_type": "text"
      },
      "source": [
        "Regression Line"
      ]
    },
    {
      "cell_type": "markdown",
      "metadata": {
        "id": "J3qYF-g_SkvM",
        "colab_type": "text"
      },
      "source": [
        "After graphing the scatterplot, we'll just be adding one more line of code:\n",
        "\n",
        "**abline(lm())**\n",
        "\n",
        "The inside of the **lm()** parantheses are going to be the **same code** as your **plot()** code."
      ]
    },
    {
      "cell_type": "code",
      "metadata": {
        "id": "44bGlZkYQTG7",
        "colab_type": "code",
        "colab": {}
      },
      "source": [
        "#Run Me!\n",
        "#Scatterplot code\n",
        "plot(wt ~ mpg, data=mtcars)\n",
        "#Linear Regression code\n",
        "abline(lm(wt ~ mpg,data=mtcars))"
      ],
      "execution_count": null,
      "outputs": []
    },
    {
      "cell_type": "code",
      "metadata": {
        "id": "bJ9eScaHPS1B",
        "colab_type": "code",
        "colab": {}
      },
      "source": [
        "#Run Me!\n",
        "#Scatterplot code\n",
        "plot(wt~mpg,data=mtcars,main='Scatterplot Example',xlab='Miles Per Gallon',ylab='Weight')\n",
        "#Linear Regression code\n",
        "abline(lm(wt ~ mpg,data=mtcars))"
      ],
      "execution_count": null,
      "outputs": []
    },
    {
      "cell_type": "code",
      "metadata": {
        "id": "9XHdQ7qbTD-p",
        "colab_type": "code",
        "colab": {}
      },
      "source": [
        "#Create your own scatterplot of two other columns below and add a regression line!\n"
      ],
      "execution_count": null,
      "outputs": []
    },
    {
      "cell_type": "code",
      "metadata": {
        "id": "zZ5qiknYTMtc",
        "colab_type": "code",
        "colab": {}
      },
      "source": [
        "#Create your own scatterplot of two other columns below and add a regression line!\n"
      ],
      "execution_count": null,
      "outputs": []
    },
    {
      "cell_type": "code",
      "metadata": {
        "id": "fsQsOf_zTMyW",
        "colab_type": "code",
        "colab": {}
      },
      "source": [
        "#Create your own scatterplot of two other columns below and add a regression line!\n"
      ],
      "execution_count": null,
      "outputs": []
    },
    {
      "cell_type": "markdown",
      "metadata": {
        "id": "yGUCR3ipbqPu",
        "colab_type": "text"
      },
      "source": [
        "##Pie Charts"
      ]
    },
    {
      "cell_type": "markdown",
      "metadata": {
        "id": "ExeN_u_icAl5",
        "colab_type": "text"
      },
      "source": [
        "I don't know about you, but I'm tired of that damn cars data set.\n",
        "\n",
        "Thankfully in this section, we'll be creating our data as we learn about Pie Charts\n",
        "\n",
        "**Heads Up**\n",
        "\n",
        "I've always been told to not really use R for Pie Charts...but I can show you how easy it is to make them.\n",
        "\n",
        "\n",
        "To create a pie chart, we'll be using **c()** which **combines** numbers and creates a vector. R loves vectors.\n",
        "\n",
        "We'll then use **pie()** to display the information in a pie chart"
      ]
    },
    {
      "cell_type": "code",
      "metadata": {
        "id": "p-p0oSWLbrAM",
        "colab_type": "code",
        "colab": {}
      },
      "source": [
        "#Run Me!\n",
        "\n",
        "#I'm assigning the variable Slices a combination (c) of random numbers I chose\n",
        "Slices <- c(14, 8, 12, 9, 11)\n",
        "\n",
        "pie(Slices)"
      ],
      "execution_count": null,
      "outputs": []
    },
    {
      "cell_type": "markdown",
      "metadata": {
        "id": "-3a6CsmkdDWZ",
        "colab_type": "text"
      },
      "source": [
        "We'll now add labels and a title!\n",
        "\n",
        "But first we have to create a vector of those labels using **c()** again."
      ]
    },
    {
      "cell_type": "code",
      "metadata": {
        "id": "Vdb-18q1cNJv",
        "colab_type": "code",
        "colab": {}
      },
      "source": [
        "#Run Me!\n",
        "labels <- c('Volleyball','Football','ShenaPlaysTrack','Basketball','Soccer')\n",
        "\n",
        "pie(Slices, labels = labels, main = 'Main Title')"
      ],
      "execution_count": null,
      "outputs": []
    },
    {
      "cell_type": "markdown",
      "metadata": {
        "id": "qvgkxru_eWcS",
        "colab_type": "text"
      },
      "source": [
        "Those colors aren't the best....so we can add\n",
        "\n",
        "**col=rainbow(length(labels))**\n",
        "\n",
        "This assigns the pie chart different colors of the rainbow (randomly), depending on how many labels we have.\n",
        "\n",
        "In this example, we have 5 labels\n",
        "\n",
        "labels <- c('Volleyball','Football','ShenaPlaysTrack','Basketball','Soccer')\n",
        "\n",
        "So it chooses 5 different colors randomly."
      ]
    },
    {
      "cell_type": "code",
      "metadata": {
        "id": "n71mhmCgdetV",
        "colab_type": "code",
        "colab": {}
      },
      "source": [
        "#Run Me!\n",
        "pie(Slices, labels = labels, main = 'Title',col=rainbow(length(labels)))"
      ],
      "execution_count": null,
      "outputs": []
    },
    {
      "cell_type": "code",
      "metadata": {
        "id": "ahj2ueqYVzbO",
        "colab_type": "code",
        "colab": {}
      },
      "source": [
        "#Create your own pie charts by assigning a variable a combination (c()) of numbers"
      ],
      "execution_count": null,
      "outputs": []
    },
    {
      "cell_type": "code",
      "metadata": {
        "id": "_qQcI5ecVzeD",
        "colab_type": "code",
        "colab": {}
      },
      "source": [
        "#Create labels for those numbers"
      ],
      "execution_count": null,
      "outputs": []
    },
    {
      "cell_type": "code",
      "metadata": {
        "id": "_lB8tBiKVzgq",
        "colab_type": "code",
        "colab": {}
      },
      "source": [
        "#Add titles and colors!"
      ],
      "execution_count": null,
      "outputs": []
    },
    {
      "cell_type": "markdown",
      "metadata": {
        "id": "LeW8gXXfWV-N",
        "colab_type": "text"
      },
      "source": [
        "#Your Own Practice"
      ]
    },
    {
      "cell_type": "markdown",
      "metadata": {
        "id": "Y63CK5vuX753",
        "colab_type": "text"
      },
      "source": [
        "Alrighttyyyy then. So you learned some very basic graphing techniques in R! This section is for you to practice on a bunch of different data sets.\n",
        "\n",
        "1. Go to this link (open in new tab): https://stat.ethz.ch/R-manual/R-devel/library/datasets/html/00Index.html\n",
        "\n",
        "2. On the left hand side (in the blue hyperlink) are all the datasets that came with the package you installed earlier.\n",
        "  - I chose a random one in the example below (attitude) \n",
        "\n",
        "3. You can use **head()** to check out the column names in the datasets, and graph different columns against eachother!"
      ]
    },
    {
      "cell_type": "code",
      "metadata": {
        "id": "muzmZmxDWYZE",
        "colab_type": "code",
        "colab": {}
      },
      "source": [
        "#Run Me!\n",
        "#change 'attitude' to other dataset names and graph!\n",
        "head(attitude)"
      ],
      "execution_count": null,
      "outputs": []
    },
    {
      "cell_type": "markdown",
      "metadata": {
        "id": "wMeul-OwZA0C",
        "colab_type": "text"
      },
      "source": [
        "Practice Your Coding Here!"
      ]
    },
    {
      "cell_type": "code",
      "metadata": {
        "id": "3HD1RzzrWqf7",
        "colab_type": "code",
        "colab": {}
      },
      "source": [
        ""
      ],
      "execution_count": null,
      "outputs": []
    },
    {
      "cell_type": "code",
      "metadata": {
        "id": "Kw0Nte7lZEEb",
        "colab_type": "code",
        "colab": {}
      },
      "source": [
        ""
      ],
      "execution_count": null,
      "outputs": []
    },
    {
      "cell_type": "code",
      "metadata": {
        "id": "X9IdsukgZEKZ",
        "colab_type": "code",
        "colab": {}
      },
      "source": [
        ""
      ],
      "execution_count": null,
      "outputs": []
    },
    {
      "cell_type": "code",
      "metadata": {
        "id": "pewjckMtZENf",
        "colab_type": "code",
        "colab": {}
      },
      "source": [
        ""
      ],
      "execution_count": null,
      "outputs": []
    },
    {
      "cell_type": "code",
      "metadata": {
        "id": "esFQgZ_GZEQX",
        "colab_type": "code",
        "colab": {}
      },
      "source": [
        ""
      ],
      "execution_count": null,
      "outputs": []
    },
    {
      "cell_type": "code",
      "metadata": {
        "id": "hjmh3tqaZETl",
        "colab_type": "code",
        "colab": {}
      },
      "source": [
        ""
      ],
      "execution_count": null,
      "outputs": []
    },
    {
      "cell_type": "code",
      "metadata": {
        "id": "BPVMX_l-ZEXm",
        "colab_type": "code",
        "colab": {}
      },
      "source": [
        ""
      ],
      "execution_count": null,
      "outputs": []
    },
    {
      "cell_type": "code",
      "metadata": {
        "id": "YB311Oh3ZEaS",
        "colab_type": "code",
        "colab": {}
      },
      "source": [
        ""
      ],
      "execution_count": null,
      "outputs": []
    },
    {
      "cell_type": "code",
      "metadata": {
        "id": "cmYC6sWpZEd3",
        "colab_type": "code",
        "colab": {}
      },
      "source": [
        ""
      ],
      "execution_count": null,
      "outputs": []
    },
    {
      "cell_type": "code",
      "metadata": {
        "id": "XJVok97EZEhw",
        "colab_type": "code",
        "colab": {}
      },
      "source": [
        ""
      ],
      "execution_count": null,
      "outputs": []
    },
    {
      "cell_type": "code",
      "metadata": {
        "id": "1ZcXYqZpZElF",
        "colab_type": "code",
        "colab": {}
      },
      "source": [
        ""
      ],
      "execution_count": null,
      "outputs": []
    },
    {
      "cell_type": "code",
      "metadata": {
        "id": "qojSliH8ZEoy",
        "colab_type": "code",
        "colab": {}
      },
      "source": [
        ""
      ],
      "execution_count": null,
      "outputs": []
    },
    {
      "cell_type": "code",
      "metadata": {
        "id": "RL-29tQ4ZEsK",
        "colab_type": "code",
        "colab": {}
      },
      "source": [
        ""
      ],
      "execution_count": null,
      "outputs": []
    },
    {
      "cell_type": "code",
      "metadata": {
        "id": "S2ZIZV5iZEva",
        "colab_type": "code",
        "colab": {}
      },
      "source": [
        ""
      ],
      "execution_count": null,
      "outputs": []
    },
    {
      "cell_type": "code",
      "metadata": {
        "id": "GPmnd2QZZEzk",
        "colab_type": "code",
        "colab": {}
      },
      "source": [
        ""
      ],
      "execution_count": null,
      "outputs": []
    },
    {
      "cell_type": "code",
      "metadata": {
        "id": "tT7mBvMaZE3U",
        "colab_type": "code",
        "colab": {}
      },
      "source": [
        ""
      ],
      "execution_count": null,
      "outputs": []
    },
    {
      "cell_type": "code",
      "metadata": {
        "id": "im_pLTVAZE7b",
        "colab_type": "code",
        "colab": {}
      },
      "source": [
        ""
      ],
      "execution_count": null,
      "outputs": []
    },
    {
      "cell_type": "code",
      "metadata": {
        "id": "A4L4Lrr2ZE_C",
        "colab_type": "code",
        "colab": {}
      },
      "source": [
        ""
      ],
      "execution_count": null,
      "outputs": []
    },
    {
      "cell_type": "code",
      "metadata": {
        "id": "qnEDvZ54ZFDZ",
        "colab_type": "code",
        "colab": {}
      },
      "source": [
        ""
      ],
      "execution_count": null,
      "outputs": []
    },
    {
      "cell_type": "code",
      "metadata": {
        "id": "EjE4gBDwZFHv",
        "colab_type": "code",
        "colab": {}
      },
      "source": [
        ""
      ],
      "execution_count": null,
      "outputs": []
    },
    {
      "cell_type": "code",
      "metadata": {
        "id": "FfgVjeD_ZFMY",
        "colab_type": "code",
        "colab": {}
      },
      "source": [
        ""
      ],
      "execution_count": null,
      "outputs": []
    },
    {
      "cell_type": "code",
      "metadata": {
        "id": "qpArlwCsZFXg",
        "colab_type": "code",
        "colab": {}
      },
      "source": [
        ""
      ],
      "execution_count": null,
      "outputs": []
    },
    {
      "cell_type": "code",
      "metadata": {
        "id": "u-19owuIZFdk",
        "colab_type": "code",
        "colab": {}
      },
      "source": [
        ""
      ],
      "execution_count": null,
      "outputs": []
    },
    {
      "cell_type": "code",
      "metadata": {
        "id": "CTJIbyHLZFj1",
        "colab_type": "code",
        "colab": {}
      },
      "source": [
        ""
      ],
      "execution_count": null,
      "outputs": []
    },
    {
      "cell_type": "code",
      "metadata": {
        "id": "z2L5F2x1ZFrW",
        "colab_type": "code",
        "colab": {}
      },
      "source": [
        ""
      ],
      "execution_count": null,
      "outputs": []
    },
    {
      "cell_type": "code",
      "metadata": {
        "id": "k6PV0WuPZEHQ",
        "colab_type": "code",
        "colab": {}
      },
      "source": [
        ""
      ],
      "execution_count": null,
      "outputs": []
    }
  ]
}